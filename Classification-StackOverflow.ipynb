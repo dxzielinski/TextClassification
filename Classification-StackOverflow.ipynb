{
 "cells": [
  {
   "cell_type": "code",
   "execution_count": 1,
   "metadata": {},
   "outputs": [],
   "source": [
    "import os\n",
    "import re\n",
    "import shutil\n",
    "import string\n",
    "import matplotlib.pyplot as plt\n",
    "import tensorflow as tf\n",
    "import keras_tuner as kt\n",
    "import numpy as np\n",
    "\n",
    "from tensorflow import keras\n"
   ]
  },
  {
   "cell_type": "code",
   "execution_count": 2,
   "metadata": {},
   "outputs": [
    {
     "name": "stdout",
     "output_type": "stream",
     "text": [
      "Downloading data from https://storage.googleapis.com/download.tensorflow.org/data/stack_overflow_16k.tar.gz\n",
      "6053168/6053168 [==============================] - 2s 0us/step\n",
      "Downloading data from https://storage.googleapis.com/download.tensorflow.org/data/stack_overflow_16k.tar.gz\n",
      "6053168/6053168 [==============================] - 1s 0us/step\n"
     ]
    }
   ],
   "source": [
    "url = \"https://storage.googleapis.com/download.tensorflow.org/data/stack_overflow_16k.tar.gz\"\n",
    "\n",
    "training_set = tf.keras.utils.get_file('train', url,\n",
    "                                    untar=True, cache_dir='.',\n",
    "                                    cache_subdir='')\n",
    "\n",
    "test_set = tf.keras.utils.get_file('test', url,\n",
    "                                    untar=True, cache_dir='.',\n",
    "                                    cache_subdir='')\n",
    "\n",
    "training_set_dir = os.path.join(os.path.dirname(training_set), 'train')\n",
    "test_set_dir = os.path.join(os.path.dirname(test_set), 'test')"
   ]
  },
  {
   "cell_type": "code",
   "execution_count": 3,
   "metadata": {},
   "outputs": [
    {
     "data": {
      "text/plain": [
       "['csharp', 'java', 'javascript', 'python']"
      ]
     },
     "execution_count": 3,
     "metadata": {},
     "output_type": "execute_result"
    }
   ],
   "source": [
    "os.listdir(training_set_dir)"
   ]
  },
  {
   "cell_type": "code",
   "execution_count": 4,
   "metadata": {},
   "outputs": [
    {
     "name": "stdout",
     "output_type": "stream",
     "text": [
      "elegant way to control length of string properties edit: the referenced duplicate is not an option as it was answered 5 years ago (and my reference 6 years ago) and i was hoping there was something more recent that did this rather than hand crafted work around code. nor is the referenced duplicate a fully declarative solution...i have a number of string properties off a class that are only allowed to be a maximum length. coming from a delphi background you were able to define a custom type as:..type tstring10 = string[10];.type tstring50 = string[50];...and then use that as part of a property definition:..property tstring10 mystring.property tstring10 myotherstring.property tstring50 yetotherstring.property tstring50 andthelastone...there appears to be no declarative equivalent in blank that i am aware of? so it appears my only options are:...write manual property setters or getters (that truncate to the specified length).call a validation method that checks the properties to ensure their length is as needed...or are there other approaches to enforcing a length on a string property declaritively?\n",
      "\n"
     ]
    }
   ],
   "source": [
    "sample_file = os.path.join(training_set_dir, 'csharp/72.txt')\n",
    "with open(sample_file) as f:\n",
    "  print(f.read())"
   ]
  },
  {
   "cell_type": "code",
   "execution_count": 5,
   "metadata": {},
   "outputs": [
    {
     "name": "stdout",
     "output_type": "stream",
     "text": [
      "Found 8000 files belonging to 4 classes.\n",
      "Using 6400 files for training.\n"
     ]
    }
   ],
   "source": [
    "BUFFER_SIZE = 10000\n",
    "BATCH_SIZE = 64\n",
    "seed = 999\n",
    "\n",
    "raw_train_ds = tf.keras.utils.text_dataset_from_directory(\n",
    "    'train', \n",
    "    batch_size=BATCH_SIZE, \n",
    "    validation_split=0.2, \n",
    "    subset='training', \n",
    "    seed=seed)"
   ]
  },
  {
   "cell_type": "code",
   "execution_count": 6,
   "metadata": {},
   "outputs": [
    {
     "name": "stdout",
     "output_type": "stream",
     "text": [
      "Review b'is it safe to use debug folder files for distribution? is it safe to use debug folder files for distribution ? or i should use release folder ...i use vs 2008 express edition .\\n'\n",
      "Label 0\n",
      "Review b'\"copying recursively files in blank i was looking to copy a whole directory and its files but also printing each file name that its being copied...i was using a simply call to cp -rf dir dest with os.system but i cant print each filename separately as obvious...i then thought about listing eash directory file by calling recursively ls with os.system, saving the whole string, split them on an array, and implement a for loop to run os.system(\"\"cp \"\" file1 + \"\" des/\"\") and printing the filename, but it looks like lot of work. ..any better ideas to accomplish this?\"\\n'\n",
      "Label 3\n",
      "Review b'\"how to upload a file on server in blank in fast way httpwebrequest request = (httpwebrequest)webrequest.create(\"\"request_uri_string\"\");.filestream filestream = new filestream(\"\"path_to_my_file\"\", filemode.open, fileaccess.read); .stream requeststream = request.getrequeststream(); .byte[] buffer = new byte[checked((uint)math.min(4096, (int)filestream.length))];   .int bytesread = 1;.while (bytesread != 0).{.    bytesread = filestream.read(buffer, 0, buffer.length);.    if (bytesread &gt; 0).    {.        requeststream.write(buffer, 0, bytesread);.    }.} .request.close(); .filestream .close(); ...currently i am using above code. ..is there any other approach better (means fast) than this?\"\\n'\n",
      "Label 0\n",
      "Review b'\"unable to load resources from thread context class loader? i am trying to get the complete file path of a resource in a blank project that was given to me. the code fails to find the file by using the filename only. i need help to make it work...this is the project structure:....this is the code:..package com.testing.software.apps;..public class filetest {..    public static void main(string[]args) {.        string filename = \"\"orders-2017.txt\"\";.        string filepath = getfilepath(filename);.        system.out.println(\"\"file path is: \"\" + filepath);.    }..    public static string getfilepath(string filename) {.        string fullfilepath = thread.currentthread()..                getcontextclassloader()..                getresource(filename)..                getpath();.        return fullfilepath;.    }..}...this code throws a null pointer exception in the \"\"getpath();\"\" line. i figured out that the exception occurs because this line \"\"getresource(filename)\"\" returns a null url object. upon inspecting the getresource code, i see that finally \"\"url = findresource(name);\"\" returns null...public url getresource(string name) {.    url url;.    if (parent != null) {.        url = parent.getresource(name);.    } else {.        url = getbootstrapresource(name);.    }.    if (url == null) {.        url = findresource(name);.    }.    return url;.}...looking at the definition of blank.net.url findresource, i see that it always returns null, thereby giving me a null all the time...protected url findresource(string name) {.    return null;.}...can someone please explain why this code always ends up giving null and how i can make it find the file by only using the filename?\"\\n'\n",
      "Label 1\n",
      "Review b'\"thread in static constructor not work instantly i have a static thread which is responsible for get and update the token from remote api. i want to start that thread in a static constructor like below..using system;.using system.threading;..namespace staticconstructor.{.    public class callback.    {.        static string _token = \"\"init\"\";.        static thread _threadupdatetoken;.        static callback().        {.            _threadupdatetoken = new thread(()=&gt;.            {.                int i = 0;.                while (i &lt; 3).                {.                    gettokenfromapi();.                    thread.sleep(1 * 1000);.                    i++;.                }.            });.            _threadupdatetoken.start();.            console.writeline($\"\"after thread start {datetime.now.tostring(\"\"hh:mm:ss\"\")}\"\");.            thread.sleep(10 * 1000);.            console.writeline($\"\"static constructor keep running at {datetime.now.tostring(\"\"hh:mm:ss\"\")}\"\");.            console.writeline($\"\"token = {_token}\"\");.        }..        public static void gettokenfromapi().        {.            //this is for demo purpose.            var rd = new random();.            _token = rd.next().tostring();.            console.writeline($\"\"token has been updated as {_token} at {datetime.now.tostring(\"\"hh:mm:ss\"\")}\"\");.        }.    }..    class program.    {.        static void main(string[] args).        {.            callback cb = new callback();.            console.readkey();.        }.    }.}...the output is..after _threadupdatetoken.start 05:16:15.static constructor keeps running at 05:16:25.token = init.token has been updated as 1671358759 at 05:16:25.token has been updated as 437230378 at 05:16:26.token has been updated as 1350585644 at 05:16:27...then my question is:.1. why thread _threadupdatetoken not start before static constructor finished? is that because static constructor must be finished before any other threads access static variables?.2. what should i do if i dont want to invoke gettokenfromapi() directly in static constructor like..static callback().        {.            gettokenfromapi();.        }\"\\n'\n",
      "Label 0\n"
     ]
    }
   ],
   "source": [
    "for text_batch, label_batch in raw_train_ds.take(1):\n",
    "  for i in range(5):\n",
    "    print(\"Review\", text_batch.numpy()[i])\n",
    "    print(\"Label\", label_batch.numpy()[i])"
   ]
  },
  {
   "cell_type": "code",
   "execution_count": 7,
   "metadata": {},
   "outputs": [
    {
     "name": "stdout",
     "output_type": "stream",
     "text": [
      "Label 0 corresponds to csharp\n",
      "Label 1 corresponds to java\n",
      "Label 2 corresponds to javascript\n",
      "Label 3 corresponds to python\n"
     ]
    }
   ],
   "source": [
    "print(\"Label 0 corresponds to\", raw_train_ds.class_names[0])\n",
    "print(\"Label 1 corresponds to\", raw_train_ds.class_names[1])\n",
    "print(\"Label 2 corresponds to\", raw_train_ds.class_names[2])\n",
    "print(\"Label 3 corresponds to\", raw_train_ds.class_names[3])"
   ]
  },
  {
   "cell_type": "code",
   "execution_count": 8,
   "metadata": {},
   "outputs": [
    {
     "name": "stdout",
     "output_type": "stream",
     "text": [
      "Found 8000 files belonging to 4 classes.\n",
      "Using 1600 files for validation.\n"
     ]
    }
   ],
   "source": [
    "raw_val_ds = tf.keras.utils.text_dataset_from_directory(\n",
    "    'train', \n",
    "    batch_size=BATCH_SIZE, \n",
    "    validation_split=0.2, \n",
    "    subset='validation', \n",
    "    seed=seed)"
   ]
  },
  {
   "cell_type": "code",
   "execution_count": 9,
   "metadata": {},
   "outputs": [
    {
     "name": "stdout",
     "output_type": "stream",
     "text": [
      "Found 8000 files belonging to 4 classes.\n"
     ]
    }
   ],
   "source": [
    "raw_test_ds = tf.keras.utils.text_dataset_from_directory(\n",
    "    'test', \n",
    "    batch_size=BATCH_SIZE)"
   ]
  },
  {
   "cell_type": "code",
   "execution_count": 10,
   "metadata": {},
   "outputs": [
    {
     "name": "stdout",
     "output_type": "stream",
     "text": [
      "WARNING:tensorflow:From c:\\Users\\pc\\AppData\\Local\\Programs\\Python\\Python310\\lib\\site-packages\\tensorflow\\python\\autograph\\pyct\\static_analysis\\liveness.py:83: Analyzer.lamba_check (from tensorflow.python.autograph.pyct.static_analysis.liveness) is deprecated and will be removed after 2023-09-23.\n",
      "Instructions for updating:\n",
      "Lambda fuctions will be no more assumed to be used in the statement where they are used, or at least in the same block. https://github.com/tensorflow/tensorflow/issues/56089\n"
     ]
    }
   ],
   "source": [
    "VOCAB_SIZE = 1000\n",
    "encoder = tf.keras.layers.TextVectorization(\n",
    "    max_tokens=VOCAB_SIZE)\n",
    "encoder.adapt(raw_train_ds.map(lambda text, label: text))"
   ]
  },
  {
   "cell_type": "code",
   "execution_count": 11,
   "metadata": {},
   "outputs": [
    {
     "data": {
      "text/plain": [
       "array(['', '[UNK]', 'the', 'i', 'to', 'a', 'is', 'in', 'and', 'of', 'if',\n",
       "       'it', 'for', 'this', 'that', 'new', 'blank', 'have', 'string', '0'],\n",
       "      dtype='<U22')"
      ]
     },
     "execution_count": 11,
     "metadata": {},
     "output_type": "execute_result"
    }
   ],
   "source": [
    "vocab = np.array(encoder.get_vocabulary())\n",
    "vocab[:20]"
   ]
  },
  {
   "cell_type": "code",
   "execution_count": 12,
   "metadata": {},
   "outputs": [],
   "source": [
    "model = tf.keras.Sequential([\n",
    "    encoder,\n",
    "    tf.keras.layers.Embedding(\n",
    "        input_dim=len(encoder.get_vocabulary()),\n",
    "        output_dim=64,\n",
    "        mask_zero=True),\n",
    "    tf.keras.layers.Bidirectional(tf.keras.layers.LSTM(64)),\n",
    "    tf.keras.layers.Dense(64, activation='relu'),\n",
    "    tf.keras.layers.Dense(4)\n",
    "])"
   ]
  },
  {
   "cell_type": "code",
   "execution_count": 13,
   "metadata": {},
   "outputs": [],
   "source": [
    "model.compile(loss=tf.keras.losses.SparseCategoricalCrossentropy(from_logits=True),\n",
    "              optimizer=tf.keras.optimizers.Adam(1e-4),\n",
    "              metrics=['accuracy'])"
   ]
  },
  {
   "cell_type": "code",
   "execution_count": 14,
   "metadata": {},
   "outputs": [
    {
     "name": "stdout",
     "output_type": "stream",
     "text": [
      "Epoch 1/5\n",
      "100/100 [==============================] - 177s 2s/step - loss: 1.3855 - accuracy: 0.2770 - val_loss: 1.3845 - val_accuracy: 0.3146\n",
      "Epoch 2/5\n",
      "100/100 [==============================] - 165s 2s/step - loss: 1.3813 - accuracy: 0.3486 - val_loss: 1.3775 - val_accuracy: 0.3464\n",
      "Epoch 3/5\n",
      "100/100 [==============================] - 161s 2s/step - loss: 1.2824 - accuracy: 0.4336 - val_loss: 1.2058 - val_accuracy: 0.4318\n",
      "Epoch 4/5\n",
      "100/100 [==============================] - 162s 2s/step - loss: 1.0844 - accuracy: 0.5025 - val_loss: 1.1013 - val_accuracy: 0.4677\n",
      "Epoch 5/5\n",
      "100/100 [==============================] - 159s 2s/step - loss: 1.0225 - accuracy: 0.5277 - val_loss: 1.0184 - val_accuracy: 0.5406\n"
     ]
    }
   ],
   "source": [
    "epochs = 5\n",
    "\n",
    "history = model.fit(raw_train_ds, epochs=epochs,\n",
    "                    validation_data=raw_test_ds,\n",
    "                    validation_steps=30)"
   ]
  },
  {
   "cell_type": "code",
   "execution_count": 15,
   "metadata": {},
   "outputs": [
    {
     "name": "stdout",
     "output_type": "stream",
     "text": [
      "125/125 [==============================] - 38s 301ms/step - loss: 0.9962 - accuracy: 0.5420\n",
      "Test Loss: 0.9962317943572998\n",
      "Test Accuracy: 0.5419999957084656\n"
     ]
    }
   ],
   "source": [
    "test_loss, test_acc = model.evaluate(raw_test_ds)\n",
    "\n",
    "print('Test Loss:', test_loss)\n",
    "print('Test Accuracy:', test_acc)"
   ]
  },
  {
   "cell_type": "code",
   "execution_count": 16,
   "metadata": {},
   "outputs": [
    {
     "data": {
      "image/png": "[encoded data removed]",
      "text/plain": [
       "<Figure size 1000x400 with 2 Axes>"
      ]
     },
     "metadata": {},
     "output_type": "display_data"
    }
   ],
   "source": [
    "plt.figure(figsize=(10,4))\n",
    "plt.subplot(1, 2, 1)\n",
    "plt.plot(history.history['accuracy'])\n",
    "plt.plot(history.history['val_accuracy'])\n",
    "plt.subplot(1, 2, 2)\n",
    "plt.plot(history.history['loss'])\n",
    "plt.plot(history.history['val_loss'])\n",
    "plt.show()"
   ]
  },
  {
   "cell_type": "code",
   "execution_count": 17,
   "metadata": {},
   "outputs": [
    {
     "name": "stdout",
     "output_type": "stream",
     "text": [
      "8\n",
      "1/1 [==============================] - 2s 2s/step\n",
      "[[-0.08580904 -0.23256914  0.09917156  0.19180638]]\n",
      "1/1 [==============================] - 0s 23ms/step\n",
      "[[ 0.04946685 -0.05180544 -0.12132367  0.05878195]]\n",
      "1/1 [==============================] - 0s 23ms/step\n",
      "[[ 0.11570095  0.10301193 -0.16011417 -0.12121169]]\n",
      "1/1 [==============================] - 0s 25ms/step\n",
      "[[ 0.05152608 -0.03734758 -0.09224032  0.05793831]]\n",
      "1/1 [==============================] - 0s 26ms/step\n",
      "[[ 0.0577267  -0.00348192 -0.02713842 -0.06483564]]\n",
      "1/1 [==============================] - 0s 24ms/step\n",
      "[[-0.02914293 -0.10397866  0.09554629  0.04045448]]\n",
      "1/1 [==============================] - 0s 23ms/step\n",
      "[[ 0.07509007  0.01422931 -0.17929944  0.014533  ]]\n",
      "1/1 [==============================] - 0s 23ms/step\n",
      "[[-0.00502464 -0.10974856  0.01871942  0.08084328]]\n"
     ]
    }
   ],
   "source": [
    "sample_text = ['PyMongo save List of dict in subfield with own ObjectId for every dict entry',\n",
    "               'Split columns of nested lists into multiple columns in pandas',\n",
    "               'System.OutOfMemoryException when invoking Dapper\\'s QueryAsync<>() method',\n",
    "               'Does the NEST client, or indeed elasticsearch have a facility to retry delete_by_query, in particular in case of version_conflicts?',\n",
    "               'querySelectorAll() - Need help returning ONLY certaint elements',\n",
    "               'How can I use html elements with css animation in javascript?',\n",
    "               'How to get an ArrayList out of a Field object in Java for Unit test',\n",
    "               'How to pass columns dynamically for select query in java spring boot?']\n",
    "print(len(sample_text))\n",
    "i=0\n",
    "while i < len(sample_text):\n",
    "    print(model.predict(np.array([sample_text[i]])))\n",
    "    i = i + 1"
   ]
  },
  {
   "cell_type": "code",
   "execution_count": 18,
   "metadata": {},
   "outputs": [
    {
     "name": "stdout",
     "output_type": "stream",
     "text": [
      "Model: \"sequential\"\n",
      "_________________________________________________________________\n",
      " Layer (type)                Output Shape              Param #   \n",
      "=================================================================\n",
      " text_vectorization_2 (TextV  (None, None)             0         \n",
      " ectorization)                                                   \n",
      "                                                                 \n",
      " embedding (Embedding)       (None, None, 64)          64000     \n",
      "                                                                 \n",
      " bidirectional (Bidirectiona  (None, 128)              66048     \n",
      " l)                                                              \n",
      "                                                                 \n",
      " dense (Dense)               (None, 64)                8256      \n",
      "                                                                 \n",
      " dense_1 (Dense)             (None, 4)                 260       \n",
      "                                                                 \n",
      "=================================================================\n",
      "Total params: 138,564\n",
      "Trainable params: 138,564\n",
      "Non-trainable params: 0\n",
      "_________________________________________________________________\n"
     ]
    }
   ],
   "source": [
    "new_model = tf.keras.models.load_model('saved_model/my_model')\n",
    "new_model.summary()"
   ]
  },
  {
   "cell_type": "code",
   "execution_count": 19,
   "metadata": {},
   "outputs": [
    {
     "name": "stdout",
     "output_type": "stream",
     "text": [
      "125/125 - 27s - loss: 0.8302 - accuracy: 0.6291 - 27s/epoch - 217ms/step\n",
      "Restored model, accuracy: 62.91%\n",
      "125/125 [==============================] - 31s 227ms/step\n",
      "(8000, 4)\n"
     ]
    }
   ],
   "source": [
    "loss, acc = new_model.evaluate(raw_test_ds, verbose=2)\n",
    "print('Restored model, accuracy: {:5.2f}%'.format(100 * acc))\n",
    "\n",
    "print(new_model.predict(raw_test_ds).shape)"
   ]
  },
  {
   "cell_type": "code",
   "execution_count": null,
   "metadata": {},
   "outputs": [],
   "source": []
  }
 ],
 "metadata": {
  "kernelspec": {
   "display_name": "Python 3",
   "language": "python",
   "name": "python3"
  },
  "language_info": {
   "codemirror_mode": {
    "name": "ipython",
    "version": 3
   },
   "file_extension": ".py",
   "mimetype": "text/x-python",
   "name": "python",
   "nbconvert_exporter": "python",
   "pygments_lexer": "ipython3",
   "version": "3.10.4"
  },
  "orig_nbformat": 4
 },
 "nbformat": 4,
 "nbformat_minor": 2
}
